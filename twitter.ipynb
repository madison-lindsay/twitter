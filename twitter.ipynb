{
 "cells": [
  {
   "cell_type": "code",
   "execution_count": 2,
   "metadata": {},
   "outputs": [],
   "source": [
    "import os\n",
    "import json\n",
    "import pandas as pd\n",
    "import datetime\n",
    "import dateutil.parser\n",
    "import numpy as np\n",
    "import tweepy\n",
    "import nltk\n",
    "#nltk.download('vader_lexicon')\n",
    "from nltk.sentiment.vader import SentimentIntensityAnalyzer\n",
    "import string\n",
    "import re\n",
    "from sklearn.feature_extraction.text import TfidfVectorizer\n",
    "import matplotlib as plt\n",
    "\n",
    "pd.options.display.max_colwidth = 280\n",
    "stop_words = nltk.corpus.stopwords.words('english')\n",
    "stop_words.append('')\n"
   ]
  },
  {
   "cell_type": "code",
   "execution_count": 3,
   "metadata": {},
   "outputs": [],
   "source": [
    "def authenticate_api():\n",
    "    auth = tweepy.OAuth1UserHandler(\n",
    "        os.getenv('CONSUMER_KEY'), os.getenv('CONSUMER_SECRET'),\n",
    "        os.getenv('ACCESS_TOKEN'), os.getenv('ACCESS_SECRET')\n",
    "    )\n",
    "    api = tweepy.API(auth)\n",
    "    return api"
   ]
  },
  {
   "cell_type": "code",
   "execution_count": 4,
   "metadata": {},
   "outputs": [],
   "source": [
    "def extract_dict(tweet_json):\n",
    "    tweet_dict = {}\n",
    "    for user_col in ['id', 'name', 'location', 'followers_count']:\n",
    "        tweet_dict['user_' + user_col] = [tweet_json['user'][user_col]]\n",
    "    for col in ['created_at', 'id', 'retweet_count', 'favorite_count', 'lang', 'in_reply_to_user_id', 'full_text']:\n",
    "        tweet_dict[col] = [tweet_json[col]]\n",
    "    return tweet_dict"
   ]
  },
  {
   "cell_type": "code",
   "execution_count": 5,
   "metadata": {},
   "outputs": [],
   "source": [
    "def get_nltk_sentiment(sia, text):\n",
    "    return sia.polarity_scores(text)['compound']"
   ]
  },
  {
   "cell_type": "code",
   "execution_count": 6,
   "metadata": {},
   "outputs": [],
   "source": [
    "def clean_tweet(words):\n",
    "    words = words.replace('-', ' ').replace('\\n', ' ').replace('%', ' percent')\n",
    "    words = re.sub(r\"RT @(.*?):\", \"\", words)  # remove RT\n",
    "    words = re.sub(r\"https.*?([\\s\\n])\", \"\", words)  # remove url\n",
    "    http_loc = words.find('https')\n",
    "    if http_loc > 0:\n",
    "        return words[0:http_loc-1]  # remove url at end of tweet\n",
    "    if http_loc == 0:\n",
    "        return ''\n",
    "    return words"
   ]
  },
  {
   "cell_type": "code",
   "execution_count": 7,
   "metadata": {},
   "outputs": [],
   "source": [
    "def tokenize(words):\n",
    "    tokens = re.split('\\W+', words.lower())\n",
    "    return [w for w in tokens if w not in stop_words]"
   ]
  },
  {
   "cell_type": "code",
   "execution_count": 8,
   "metadata": {},
   "outputs": [],
   "source": [
    "def remove_punctuation(words):\n",
    "    return \"\".join([w for w in words if w not in string.punctuation])"
   ]
  },
  {
   "cell_type": "code",
   "execution_count": 9,
   "metadata": {},
   "outputs": [],
   "source": [
    "def get_df(tweets, add_sentiment=True):\n",
    "    dfs = []\n",
    "    for tweet in tweets:\n",
    "        dfs.append(pd.DataFrame(extract_dict(tweet._json)))\n",
    "    if len(dfs) == 0:\n",
    "        return pd.DataFrame()\n",
    "    df = pd.concat(dfs)\n",
    "    df['clean_tweet'] = df['full_text'].apply(lambda x: clean_tweet(x))\n",
    "    df['tokens'] = df['clean_tweet'].apply(lambda x: tokenize(remove_punctuation(x)))\n",
    "    \n",
    "    if add_sentiment:\n",
    "        sia = SentimentIntensityAnalyzer()\n",
    "        df['positivity'] = df['clean_tweet'].apply(lambda x: get_nltk_sentiment(sia, x))\n",
    "    return df.reset_index(drop=True)"
   ]
  },
  {
   "cell_type": "code",
   "execution_count": null,
   "metadata": {},
   "outputs": [],
   "source": []
  },
  {
   "cell_type": "code",
   "execution_count": 10,
   "metadata": {},
   "outputs": [],
   "source": [
    "api = authenticate_api()"
   ]
  },
  {
   "cell_type": "code",
   "execution_count": 33,
   "metadata": {},
   "outputs": [],
   "source": [
    "tweets = api.home_timeline(count=100, exclude_replies=False, include_entities=False, tweet_mode='extended')\n",
    "tweet_df = get_df(tweets)\n",
    "#tweet_df\n",
    "\n",
    "# NYT = 807095, Economist = 5988062, WSJ = 3108351, Onion = 14075928"
   ]
  },
  {
   "cell_type": "markdown",
   "metadata": {},
   "source": [
    "## Classifying NYT and Onion tweets\n",
    "1. Pull the most recent 1000 unique, english-language tweets from each of the Onion and the NYT\n",
    "2. Calculate inverse document frequency to identify rare words\n",
    "3. Use random forest to classify on the IDF matrix\n",
    "4. Check confusion matrix for performance\n",
    "5. See examples of misclassifications"
   ]
  },
  {
   "cell_type": "code",
   "execution_count": 11,
   "metadata": {},
   "outputs": [],
   "source": [
    "from sklearn.ensemble import RandomForestClassifier\n",
    "from sklearn.metrics import precision_score, recall_score, confusion_matrix, ConfusionMatrixDisplay\n",
    "from sklearn.model_selection import train_test_split"
   ]
  },
  {
   "cell_type": "code",
   "execution_count": 12,
   "metadata": {},
   "outputs": [],
   "source": [
    "def extract_user_timeline(user_id, count=100, add_sentiment=True):\n",
    "    # return number of unique tweets equal to count from this user_id\n",
    "    t1 = datetime.datetime.now()\n",
    "    df = pd.DataFrame()\n",
    "    max_id = None\n",
    "    while df.shape[0] < count:\n",
    "        temp = get_df(api.user_timeline(user_id=user_id, include_rts=False, tweet_mode='extended', max_id=max_id),\n",
    "                      add_sentiment=add_sentiment)\n",
    "        if temp.empty:\n",
    "            print('CANNOT reach count of {0}. Terminated at count={1}.'.format(count, num_tweets))\n",
    "            return pd.concat(dfs).reset_index(drop=True).drop_duplicates(subset='clean_tweet', keep='first')\n",
    "        max_id = temp.iloc[-1]['id']-1\n",
    "        df = pd.concat([df, temp]).reset_index(drop=True)\n",
    "        df = df[df['lang'] == 'en'].drop_duplicates(subset='clean_tweet', keep='first')\n",
    "        #print(f'df shape={df.shape[0]}, max_id={max_id}')\n",
    "    t2 = datetime.datetime.now()\n",
    "    print(t2-t1)\n",
    "    return df"
   ]
  },
  {
   "cell_type": "code",
   "execution_count": 13,
   "metadata": {},
   "outputs": [
    {
     "name": "stdout",
     "output_type": "stream",
     "text": [
      "0:00:20.255740\n"
     ]
    }
   ],
   "source": [
    "onion = extract_user_timeline(14075928, count=1000, add_sentiment=False)"
   ]
  },
  {
   "cell_type": "code",
   "execution_count": 14,
   "metadata": {},
   "outputs": [
    {
     "name": "stdout",
     "output_type": "stream",
     "text": [
      "0:00:20.676223\n"
     ]
    }
   ],
   "source": [
    "nyt = extract_user_timeline(807095, count=1000, add_sentiment=False)"
   ]
  },
  {
   "cell_type": "code",
   "execution_count": 15,
   "metadata": {},
   "outputs": [],
   "source": [
    "onion['label'] = 'satire'\n",
    "nyt['label'] = 'news'"
   ]
  },
  {
   "cell_type": "code",
   "execution_count": 16,
   "metadata": {},
   "outputs": [],
   "source": [
    "news_df = pd.concat([onion[['label','full_text']], nyt[['label','full_text']]]).reset_index(drop=True)"
   ]
  },
  {
   "cell_type": "code",
   "execution_count": 17,
   "metadata": {},
   "outputs": [],
   "source": [
    "# tf idf\n",
    "def prep_inv_doc(x):\n",
    "    return tokenize(remove_punctuation(clean_tweet(x)))\n",
    "\n",
    "inv_doc = TfidfVectorizer(analyzer=prep_inv_doc)\n",
    "inv_doc_output = inv_doc.fit_transform(news_df['full_text'])\n",
    "id_df = pd.DataFrame(inv_doc_output.toarray())"
   ]
  },
  {
   "cell_type": "code",
   "execution_count": null,
   "metadata": {},
   "outputs": [],
   "source": []
  },
  {
   "cell_type": "code",
   "execution_count": 18,
   "metadata": {},
   "outputs": [],
   "source": [
    "X_train, X_test, y_train, y_test = train_test_split(id_df, news_df['label'], test_size=0.3)"
   ]
  },
  {
   "cell_type": "code",
   "execution_count": 19,
   "metadata": {},
   "outputs": [],
   "source": [
    "rf_to_fit = RandomForestClassifier()\n",
    "rf = rf_to_fit.fit(X_train, y_train)"
   ]
  },
  {
   "cell_type": "code",
   "execution_count": 20,
   "metadata": {},
   "outputs": [],
   "source": [
    "y_pred = rf.predict(X_test)"
   ]
  },
  {
   "cell_type": "code",
   "execution_count": 21,
   "metadata": {},
   "outputs": [
    {
     "name": "stdout",
     "output_type": "stream",
     "text": [
      "0.8498583569405099\n",
      "0.9463722397476341\n"
     ]
    },
    {
     "data": {
      "image/png": "[encoded data removed]",
      "text/plain": [
       "<Figure size 432x288 with 2 Axes>"
      ]
     },
     "metadata": {
      "needs_background": "light"
     },
     "output_type": "display_data"
    }
   ],
   "source": [
    "cm = confusion_matrix(y_test, y_pred, labels=['news', 'satire'])\n",
    "disp = ConfusionMatrixDisplay(confusion_matrix=cm, display_labels=['news', 'satire'])\n",
    "disp.plot()\n",
    "\n",
    "precision = precision_score(y_test, y_pred, pos_label='satire')\n",
    "print(precision)\n",
    "recall = recall_score(y_test, y_pred, pos_label='satire')\n",
    "print(recall)"
   ]
  },
  {
   "cell_type": "code",
   "execution_count": 22,
   "metadata": {},
   "outputs": [
    {
     "data": {
      "text/html": [
       "<div>\n",
       "<style scoped>\n",
       "    .dataframe tbody tr th:only-of-type {\n",
       "        vertical-align: middle;\n",
       "    }\n",
       "\n",
       "    .dataframe tbody tr th {\n",
       "        vertical-align: top;\n",
       "    }\n",
       "\n",
       "    .dataframe thead th {\n",
       "        text-align: right;\n",
       "    }\n",
       "</style>\n",
       "<table border=\"1\" class=\"dataframe\">\n",
       "  <thead>\n",
       "    <tr style=\"text-align: right;\">\n",
       "      <th></th>\n",
       "      <th>label_x</th>\n",
       "      <th>full_text</th>\n",
       "      <th>label_y</th>\n",
       "    </tr>\n",
       "  </thead>\n",
       "  <tbody>\n",
       "    <tr>\n",
       "      <th>27</th>\n",
       "      <td>satire</td>\n",
       "      <td>Something Called ‘Guacamole Donut’ Burying News Of Dozens Of School Shootings https://t.co/TacilAGlyC https://t.co/jUhmf2hRV9</td>\n",
       "      <td>satire</td>\n",
       "    </tr>\n",
       "    <tr>\n",
       "      <th>274</th>\n",
       "      <td>satire</td>\n",
       "      <td>Trump Outmaneuvers New York Lawsuit By Changing Name To Donald 2 https://t.co/gNkqqyMnN6 https://t.co/0kV0AbBtna</td>\n",
       "      <td>satire</td>\n",
       "    </tr>\n",
       "    <tr>\n",
       "      <th>279</th>\n",
       "      <td>satire</td>\n",
       "      <td>This November, Trump-loyalist and former television news anchor Kari Lake will be on the ballot in the Arizona governor’s race. The Onion asked Arizonans why they are voting for the Republican candidate, and this is what they said. https://t.co/R4388Z1pKv</td>\n",
       "      <td>satire</td>\n",
       "    </tr>\n",
       "    <tr>\n",
       "      <th>303</th>\n",
       "      <td>satire</td>\n",
       "      <td>This November, state senator and Christian nationalist Doug Mastriano will be on the ballot in the Pennsylvania governor’s race. The Onion asked Pennsylvanians why they are voting for the Republican candidate, and this is what they said. https://t.co/6cyXxXKMBV</td>\n",
       "      <td>satire</td>\n",
       "    </tr>\n",
       "    <tr>\n",
       "      <th>304</th>\n",
       "      <td>satire</td>\n",
       "      <td>You might not know it, but many of the most famous commentators on Fox News, OAN, and Infowars actually used to work as actors, directors, and writers. Here are today’s most famous conservative faces that got their start in Hollywood. https://t.co/fiLFdlvVeu</td>\n",
       "      <td>satire</td>\n",
       "    </tr>\n",
       "  </tbody>\n",
       "</table>\n",
       "</div>"
      ],
      "text/plain": [
       "    label_x  \\\n",
       "27   satire   \n",
       "274  satire   \n",
       "279  satire   \n",
       "303  satire   \n",
       "304  satire   \n",
       "\n",
       "                                                                                                                                                                                                                                                                 full_text  \\\n",
       "27                                                                                                                                           Something Called ‘Guacamole Donut’ Burying News Of Dozens Of School Shootings https://t.co/TacilAGlyC https://t.co/jUhmf2hRV9   \n",
       "274                                                                                                                                                       Trump Outmaneuvers New York Lawsuit By Changing Name To Donald 2 https://t.co/gNkqqyMnN6 https://t.co/0kV0AbBtna   \n",
       "279        This November, Trump-loyalist and former television news anchor Kari Lake will be on the ballot in the Arizona governor’s race. The Onion asked Arizonans why they are voting for the Republican candidate, and this is what they said. https://t.co/R4388Z1pKv   \n",
       "303  This November, state senator and Christian nationalist Doug Mastriano will be on the ballot in the Pennsylvania governor’s race. The Onion asked Pennsylvanians why they are voting for the Republican candidate, and this is what they said. https://t.co/6cyXxXKMBV   \n",
       "304     You might not know it, but many of the most famous commentators on Fox News, OAN, and Infowars actually used to work as actors, directors, and writers. Here are today’s most famous conservative faces that got their start in Hollywood. https://t.co/fiLFdlvVeu   \n",
       "\n",
       "    label_y  \n",
       "27   satire  \n",
       "274  satire  \n",
       "279  satire  \n",
       "303  satire  \n",
       "304  satire  "
      ]
     },
     "execution_count": 22,
     "metadata": {},
     "output_type": "execute_result"
    }
   ],
   "source": [
    "misclass = news_df.merge(y_test[y_test != y_pred], left_index=True, right_index=True, how='inner')\n",
    "misclass[misclass['label_y'] == 'satire'].head()"
   ]
  },
  {
   "cell_type": "code",
   "execution_count": 23,
   "metadata": {},
   "outputs": [
    {
     "data": {
      "text/html": [
       "<div>\n",
       "<style scoped>\n",
       "    .dataframe tbody tr th:only-of-type {\n",
       "        vertical-align: middle;\n",
       "    }\n",
       "\n",
       "    .dataframe tbody tr th {\n",
       "        vertical-align: top;\n",
       "    }\n",
       "\n",
       "    .dataframe thead th {\n",
       "        text-align: right;\n",
       "    }\n",
       "</style>\n",
       "<table border=\"1\" class=\"dataframe\">\n",
       "  <thead>\n",
       "    <tr style=\"text-align: right;\">\n",
       "      <th></th>\n",
       "      <th>label_x</th>\n",
       "      <th>full_text</th>\n",
       "      <th>label_y</th>\n",
       "    </tr>\n",
       "  </thead>\n",
       "  <tbody>\n",
       "    <tr>\n",
       "      <th>1025</th>\n",
       "      <td>news</td>\n",
       "      <td>We welcome questions for our speakers. Here is how you can participate. https://t.co/tWowjJhBCL</td>\n",
       "      <td>news</td>\n",
       "    </tr>\n",
       "    <tr>\n",
       "      <th>1093</th>\n",
       "      <td>news</td>\n",
       "      <td>Israel's lockdown of the northern West Bank, which it says is a response to a growing insurgency, has entered its third week. Palestinians in cities like Nablus have to queue for hours to leave, and with roads blocked off, the local economy has suffered. https://t.co/R9GSboSHQX</td>\n",
       "      <td>news</td>\n",
       "    </tr>\n",
       "    <tr>\n",
       "      <th>1094</th>\n",
       "      <td>news</td>\n",
       "      <td>There is no explicit declaration in the U.S. Constitution that says Americans have a right to vote — something many politicians and their supporters consider fundamental to democracy. Here’s a look at why that is, and what rights voters actually have. https://t.co/kloO7kzOZF</td>\n",
       "      <td>news</td>\n",
       "    </tr>\n",
       "    <tr>\n",
       "      <th>1118</th>\n",
       "      <td>news</td>\n",
       "      <td>These addictive seasoned \"fries\" are actually baked, but we promise you won't miss the grease. \\nhttps://t.co/zxYRsdJF0w</td>\n",
       "      <td>news</td>\n",
       "    </tr>\n",
       "    <tr>\n",
       "      <th>1134</th>\n",
       "      <td>news</td>\n",
       "      <td>A new breed of campaign aide has emerged, whose online profiles more closely resemble social media influencers than traditional behind-the-scenes press operatives. https://t.co/lmIFdpjWCX</td>\n",
       "      <td>news</td>\n",
       "    </tr>\n",
       "  </tbody>\n",
       "</table>\n",
       "</div>"
      ],
      "text/plain": [
       "     label_x  \\\n",
       "1025    news   \n",
       "1093    news   \n",
       "1094    news   \n",
       "1118    news   \n",
       "1134    news   \n",
       "\n",
       "                                                                                                                                                                                                                                                                                   full_text  \\\n",
       "1025                                                                                                                                                                                         We welcome questions for our speakers. Here is how you can participate. https://t.co/tWowjJhBCL   \n",
       "1093  Israel's lockdown of the northern West Bank, which it says is a response to a growing insurgency, has entered its third week. Palestinians in cities like Nablus have to queue for hours to leave, and with roads blocked off, the local economy has suffered. https://t.co/R9GSboSHQX   \n",
       "1094     There is no explicit declaration in the U.S. Constitution that says Americans have a right to vote — something many politicians and their supporters consider fundamental to democracy. Here’s a look at why that is, and what rights voters actually have. https://t.co/kloO7kzOZF   \n",
       "1118                                                                                                                                                                These addictive seasoned \"fries\" are actually baked, but we promise you won't miss the grease. \\nhttps://t.co/zxYRsdJF0w   \n",
       "1134                                                                                             A new breed of campaign aide has emerged, whose online profiles more closely resemble social media influencers than traditional behind-the-scenes press operatives. https://t.co/lmIFdpjWCX   \n",
       "\n",
       "     label_y  \n",
       "1025    news  \n",
       "1093    news  \n",
       "1094    news  \n",
       "1118    news  \n",
       "1134    news  "
      ]
     },
     "execution_count": 23,
     "metadata": {},
     "output_type": "execute_result"
    }
   ],
   "source": [
    "misclass[misclass['label_y'] == 'news'].head()"
   ]
  },
  {
   "cell_type": "code",
   "execution_count": null,
   "metadata": {},
   "outputs": [],
   "source": []
  },
  {
   "cell_type": "code",
   "execution_count": null,
   "metadata": {},
   "outputs": [],
   "source": []
  },
  {
   "cell_type": "markdown",
   "metadata": {},
   "source": [
    "**Twitter API methods**\n",
    "* `get_retweeter_ids(id, *, count, cursor, stringify_ids)`\n",
    "* `get_retweets`\n",
    "* `get_status` \n",
    "* `search_tweets(q, *, geocode, lang, locale, result_type, count, until, since_id, max_id, include_entities)`\n",
    "    * query syntax: https://developer.twitter.com/en/docs/twitter-api/v1/rules-and-filtering/search-operators\n",
    "* `get_follower_ids(*, user_id, screen_name, cursor, stringify_ids, count)`\n",
    "    * returns 5000 at a time\n",
    "* `search_users(q, *, page, count, include_entities)`\n",
    "* `get_user(*, user_id, screen_name, include_entities)`\n",
    "* `get_blocked_ids(*, stringify_ids, cursor)` or `get_blocks(*, include_entities, skip_status, cursor)` for user objects\n",
    "* `available_trends()` and `closest_trends()`\n",
    "* `search_full_archive(label, query, *, tag, fromDate, toDate, maxResults, next)` not sure if I can access this\n",
    "* `user_timeline(*, user_id, screen_name, since_id, count, max_id, trim_user, exclude_replies, include_rts)` Returns the 20 most recent statuses posted from the authenticating user or the user specified"
   ]
  },
  {
   "cell_type": "markdown",
   "metadata": {},
   "source": [
    "### Emoji positivity scores\n",
    "* distribution of positivity scores of the tweets that contain emojis\n",
    "* difficult to detect sarcasm"
   ]
  },
  {
   "cell_type": "code",
   "execution_count": 24,
   "metadata": {},
   "outputs": [],
   "source": [
    "def extract_search_tweets(query, count=100, add_sentiment=True):\n",
    "    # return number of unique tweets equal to count from this user_id\n",
    "    t1 = datetime.datetime.now()\n",
    "    df = pd.DataFrame()\n",
    "    max_id = None\n",
    "    while df.shape[0] < count:\n",
    "        temp = get_df(api.search_tweets(query, tweet_mode='extended', count=100, lang='en', max_id=max_id),\n",
    "                      add_sentiment=add_sentiment)\n",
    "        if temp.empty:\n",
    "            print('CANNOT reach count of {0}. Terminated at count={1}.'.format(count, num_tweets))\n",
    "            return pd.concat(dfs).reset_index(drop=True).drop_duplicates(subset='clean_tweet', keep='first')\n",
    "        max_id = temp.iloc[-1]['id']-1\n",
    "        df = pd.concat([df, temp]).reset_index(drop=True)\n",
    "        df = df[df['lang'] == 'en'].drop_duplicates(subset='clean_tweet', keep='first')\n",
    "        #print(f'df shape={df.shape[0]}, max_id={max_id}')\n",
    "    t2 = datetime.datetime.now()\n",
    "    print(t2-t1)\n",
    "    return df"
   ]
  },
  {
   "cell_type": "code",
   "execution_count": 25,
   "metadata": {},
   "outputs": [],
   "source": [
    "import seaborn as sns"
   ]
  },
  {
   "cell_type": "code",
   "execution_count": 26,
   "metadata": {},
   "outputs": [
    {
     "name": "stdout",
     "output_type": "stream",
     "text": [
      "0:00:05.478694\n"
     ]
    }
   ],
   "source": [
    "skull_df = extract_search_tweets(\"💀\", count=500)\n",
    "skull_df['query'] = \"skull\""
   ]
  },
  {
   "cell_type": "code",
   "execution_count": 27,
   "metadata": {},
   "outputs": [
    {
     "name": "stdout",
     "output_type": "stream",
     "text": [
      "0:00:06.758537\n"
     ]
    }
   ],
   "source": [
    "heart_df = extract_search_tweets(\"❤️\", count=500)\n",
    "heart_df['query'] = \"heart\""
   ]
  },
  {
   "cell_type": "code",
   "execution_count": 28,
   "metadata": {},
   "outputs": [
    {
     "name": "stdout",
     "output_type": "stream",
     "text": [
      "0:00:04.774467\n"
     ]
    }
   ],
   "source": [
    "puke_df = extract_search_tweets(\"🤮\", count=500)\n",
    "puke_df['query'] = \"puke\""
   ]
  },
  {
   "cell_type": "code",
   "execution_count": 29,
   "metadata": {},
   "outputs": [
    {
     "name": "stdout",
     "output_type": "stream",
     "text": [
      "0:00:06.906507\n"
     ]
    }
   ],
   "source": [
    "war_df = extract_search_tweets(\"war\", count=500)\n",
    "war_df['query'] = '\"war\"'"
   ]
  },
  {
   "cell_type": "code",
   "execution_count": 30,
   "metadata": {},
   "outputs": [
    {
     "name": "stdout",
     "output_type": "stream",
     "text": [
      "0:00:06.745720\n"
     ]
    }
   ],
   "source": [
    "pumpkin_df = extract_search_tweets(\"pumpkin\", count=500)\n",
    "pumpkin_df['query'] = '\"pumpkin\"'"
   ]
  },
  {
   "cell_type": "code",
   "execution_count": 31,
   "metadata": {},
   "outputs": [],
   "source": [
    "emoji_df = pd.concat([\n",
    "    skull_df, heart_df, puke_df, war_df, pumpkin_df\n",
    "])[['query', 'positivity']].reset_index(drop=True)"
   ]
  },
  {
   "cell_type": "code",
   "execution_count": null,
   "metadata": {},
   "outputs": [],
   "source": []
  },
  {
   "cell_type": "code",
   "execution_count": 32,
   "metadata": {},
   "outputs": [
    {
     "name": "stderr",
     "output_type": "stream",
     "text": [
      "<ipython-input-32-8a5f84ba1415>:2: UserWarning: \n",
      "\n",
      "The `bw` parameter is deprecated in favor of `bw_method` and `bw_adjust`.\n",
      "Setting `bw_method=0.5`, but please see the docs for the new parameters\n",
      "and update your code. This will become an error in seaborn v0.13.0.\n",
      "\n",
      "  sns.kdeplot(data=emoji_df, x='positivity', hue='query', bw=0.5)\n"
     ]
    },
    {
     "data": {
      "text/plain": [
       "<AxesSubplot: xlabel='positivity', ylabel='Density'>"
      ]
     },
     "execution_count": 32,
     "metadata": {},
     "output_type": "execute_result"
    },
    {
     "data": {
      "image/png": "[encoded data removed]",
      "text/plain": [
       "<Figure size 432x288 with 1 Axes>"
      ]
     },
     "metadata": {},
     "output_type": "display_data"
    }
   ],
   "source": [
    "sns.set_style('whitegrid')\n",
    "sns.kdeplot(data=emoji_df, x='positivity', hue='query', bw=0.5)"
   ]
  },
  {
   "cell_type": "markdown",
   "metadata": {},
   "source": [
    "### Network"
   ]
  },
  {
   "cell_type": "code",
   "execution_count": 14,
   "metadata": {},
   "outputs": [],
   "source": [
    "import networkx as nx\n",
    "from tqdm import tqdm"
   ]
  },
  {
   "cell_type": "code",
   "execution_count": 15,
   "metadata": {},
   "outputs": [
    {
     "data": {
      "text/plain": [
       "330764365"
      ]
     },
     "execution_count": 15,
     "metadata": {},
     "output_type": "execute_result"
    }
   ],
   "source": [
    "base_node = api.get_user(screen_name = \"DavidCastilloAC\")  # stars reporter\n",
    "base_node.id"
   ]
  },
  {
   "cell_type": "code",
   "execution_count": 16,
   "metadata": {},
   "outputs": [
    {
     "name": "stdout",
     "output_type": "stream",
     "text": [
      "1225\n"
     ]
    }
   ],
   "source": [
    "followers = api.get_follower_ids(user_id=330764365)\n",
    "print(len(followers))"
   ]
  },
  {
   "cell_type": "code",
   "execution_count": 17,
   "metadata": {},
   "outputs": [],
   "source": [
    "def get_user_positivity(user_id):\n",
    "    try:\n",
    "        follower_tweets = get_df(api.user_timeline(\n",
    "            user_id=user_id, include_rts=False, tweet_mode='extended'\n",
    "        ))\n",
    "    except:\n",
    "        return np.nan\n",
    "    if follower_tweets.shape[0] == 0:\n",
    "        return np.nan\n",
    "    return follower_tweets['positivity'].median()"
   ]
  },
  {
   "cell_type": "code",
   "execution_count": 18,
   "metadata": {},
   "outputs": [
    {
     "name": "stdout",
     "output_type": "stream",
     "text": [
      "2022-10-26 17:06:19.433879\n",
      "2022-10-26 17:14:26.491735\n"
     ]
    }
   ],
   "source": [
    "follower_df = pd.DataFrame({'follower': followers})\n",
    "print(datetime.datetime.now())\n",
    "follower_df['median_positivity'] = follower_df['follower'].apply(lambda x: get_user_positivity(x))\n",
    "print(datetime.datetime.now())"
   ]
  },
  {
   "cell_type": "code",
   "execution_count": 19,
   "metadata": {},
   "outputs": [
    {
     "data": {
      "text/plain": [
       "0.0"
      ]
     },
     "execution_count": 19,
     "metadata": {},
     "output_type": "execute_result"
    }
   ],
   "source": [
    "follower_df[~follower_df['median_positivity'].isna()]['median_positivity'].median()"
   ]
  },
  {
   "cell_type": "code",
   "execution_count": 15,
   "metadata": {},
   "outputs": [],
   "source": [
    "#temp_df = get_df(api.user_timeline(user_id=330764365, include_rts=False, tweet_mode='extended'))"
   ]
  },
  {
   "cell_type": "code",
   "execution_count": null,
   "metadata": {},
   "outputs": [],
   "source": []
  }
 ],
 "metadata": {
  "kernelspec": {
   "display_name": "Python 3",
   "language": "python",
   "name": "python3"
  },
  "language_info": {
   "codemirror_mode": {
    "name": "ipython",
    "version": 3
   },
   "file_extension": ".py",
   "mimetype": "text/x-python",
   "name": "python",
   "nbconvert_exporter": "python",
   "pygments_lexer": "ipython3",
   "version": "3.8.5"
  }
 },
 "nbformat": 4,
 "nbformat_minor": 4
}
