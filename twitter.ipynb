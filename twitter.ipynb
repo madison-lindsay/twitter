{
 "cells": [
  {
   "cell_type": "code",
   "execution_count": 1,
   "metadata": {},
   "outputs": [
    {
     "name": "stderr",
     "output_type": "stream",
     "text": [
      "[nltk_data] Downloading package vader_lexicon to\n",
      "[nltk_data]     /Users/madisonlindsay/nltk_data...\n",
      "[nltk_data]   Package vader_lexicon is already up-to-date!\n"
     ]
    }
   ],
   "source": [
    "import os\n",
    "import json\n",
    "import pandas as pd\n",
    "import datetime\n",
    "import dateutil.parser\n",
    "import numpy as np\n",
    "import tweepy\n",
    "import nltk\n",
    "nltk.download('vader_lexicon')\n",
    "from nltk.sentiment.vader import SentimentIntensityAnalyzer\n",
    "\n",
    "pd.options.display.max_colwidth = 280"
   ]
  },
  {
   "cell_type": "code",
   "execution_count": 2,
   "metadata": {},
   "outputs": [],
   "source": [
    "def authenticate_api():\n",
    "    auth = tweepy.OAuth1UserHandler(\n",
    "        os.getenv('CONSUMER_KEY'), os.getenv('CONSUMER_SECRET'),\n",
    "        os.getenv('ACCESS_TOKEN'), os.getenv('ACCESS_SECRET')\n",
    "    )\n",
    "    api = tweepy.API(auth)\n",
    "    return api"
   ]
  },
  {
   "cell_type": "code",
   "execution_count": 3,
   "metadata": {},
   "outputs": [],
   "source": [
    "def extract_dict(tweet_json):\n",
    "    tweet_dict = {}\n",
    "    for user_col in ['id', 'name', 'location', 'followers_count']:\n",
    "        tweet_dict['user_' + user_col] = [tweet_json['user'][user_col]]\n",
    "    for col in ['created_at', 'id', 'retweet_count', 'favorite_count', 'lang', 'in_reply_to_user_id', 'full_text']:\n",
    "        tweet_dict[col] = [tweet_json[col]]\n",
    "    return tweet_dict"
   ]
  },
  {
   "cell_type": "code",
   "execution_count": 4,
   "metadata": {},
   "outputs": [],
   "source": [
    "def get_nltk_sentiment(sia, text):\n",
    "    return sia.polarity_scores(text)['compound']"
   ]
  },
  {
   "cell_type": "code",
   "execution_count": 5,
   "metadata": {},
   "outputs": [],
   "source": [
    "def get_df(tweets, add_sentiment=True):\n",
    "    dfs = []\n",
    "    for tweet in tweets:\n",
    "        dfs.append(pd.DataFrame(extract_dict(tweet._json)))\n",
    "    df = pd.concat(dfs)\n",
    "    if add_sentiment:\n",
    "        sia = SentimentIntensityAnalyzer()\n",
    "        df['positivity'] = df['full_text'].apply(lambda x: get_nltk_sentiment(sia, x))\n",
    "    return df.reset_index(drop=True)"
   ]
  },
  {
   "cell_type": "code",
   "execution_count": null,
   "metadata": {},
   "outputs": [],
   "source": []
  },
  {
   "cell_type": "code",
   "execution_count": 6,
   "metadata": {},
   "outputs": [],
   "source": [
    "api = authenticate_api()"
   ]
  },
  {
   "cell_type": "code",
   "execution_count": 7,
   "metadata": {},
   "outputs": [],
   "source": [
    "# tweets = api.home_timeline(count=10, exclude_replies=False, include_entities=False, tweet_mode='extended')\n",
    "# get_df(tweets)\n",
    "\n",
    "# the onion = 14075928\n",
    "# economist = 5988062\n",
    "# NYT = 807095"
   ]
  },
  {
   "cell_type": "code",
   "execution_count": null,
   "metadata": {},
   "outputs": [],
   "source": []
  },
  {
   "cell_type": "markdown",
   "metadata": {},
   "source": [
    "### Methods\n",
    "* `get_retweeter_ids(id, *, count, cursor, stringify_ids)`\n",
    "* `get_retweets`\n",
    "* `get_status` \n",
    "* `search_tweets(q, *, geocode, lang, locale, result_type, count, until, since_id, max_id, include_entities)`\n",
    "    * query syntax: https://developer.twitter.com/en/docs/twitter-api/v1/rules-and-filtering/search-operators\n",
    "* `get_follower_ids(*, user_id, screen_name, cursor, stringify_ids, count)`\n",
    "    * returns 5000 at a time\n",
    "* `search_users(q, *, page, count, include_entities)`\n",
    "* `get_user(*, user_id, screen_name, include_entities)`\n",
    "* `get_blocked_ids(*, stringify_ids, cursor)` or `get_blocks(*, include_entities, skip_status, cursor)` for user objects\n",
    "* `available_trends()` and `closest_trends()`\n",
    "* `search_full_archive(label, query, *, tag, fromDate, toDate, maxResults, next)` not sure if I can access this"
   ]
  },
  {
   "cell_type": "code",
   "execution_count": 8,
   "metadata": {},
   "outputs": [
    {
     "data": {
      "text/plain": [
       "count    86.000000\n",
       "mean     -0.265505\n",
       "std       0.492529\n",
       "min      -0.957100\n",
       "25%      -0.669600\n",
       "50%      -0.401900\n",
       "75%       0.000000\n",
       "max       0.812600\n",
       "Name: positivity, dtype: float64"
      ]
     },
     "execution_count": 8,
     "metadata": {},
     "output_type": "execute_result"
    }
   ],
   "source": [
    "war = api.search_tweets(\"war\", tweet_mode='extended', count=100, lang='en')\n",
    "war_df = get_df(war)\n",
    "war_df['positivity'].describe()"
   ]
  },
  {
   "cell_type": "code",
   "execution_count": 9,
   "metadata": {},
   "outputs": [
    {
     "data": {
      "text/plain": [
       "count    100.000000\n",
       "mean       0.232420\n",
       "std        0.401028\n",
       "min       -0.802000\n",
       "25%        0.000000\n",
       "50%        0.273000\n",
       "75%        0.467575\n",
       "max        0.931200\n",
       "Name: positivity, dtype: float64"
      ]
     },
     "execution_count": 9,
     "metadata": {},
     "output_type": "execute_result"
    }
   ],
   "source": [
    "pumpkin = api.search_tweets(\"pumpkin\", tweet_mode='extended', count=100, lang='en')\n",
    "pumpkin_df = get_df(pumpkin)\n",
    "pumpkin_df['positivity'].describe()"
   ]
  },
  {
   "cell_type": "code",
   "execution_count": 10,
   "metadata": {},
   "outputs": [],
   "source": [
    "followers = api.get_follower_ids(user_id=14075928)  # the onion"
   ]
  },
  {
   "cell_type": "code",
   "execution_count": null,
   "metadata": {},
   "outputs": [],
   "source": []
  },
  {
   "cell_type": "code",
   "execution_count": null,
   "metadata": {},
   "outputs": [],
   "source": []
  }
 ],
 "metadata": {
  "kernelspec": {
   "display_name": "Python 3",
   "language": "python",
   "name": "python3"
  },
  "language_info": {
   "codemirror_mode": {
    "name": "ipython",
    "version": 3
   },
   "file_extension": ".py",
   "mimetype": "text/x-python",
   "name": "python",
   "nbconvert_exporter": "python",
   "pygments_lexer": "ipython3",
   "version": "3.8.5"
  }
 },
 "nbformat": 4,
 "nbformat_minor": 4
}
